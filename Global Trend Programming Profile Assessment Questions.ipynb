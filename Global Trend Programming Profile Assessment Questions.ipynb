{
 "cells": [
  {
   "cell_type": "markdown",
   "id": "94de64f1",
   "metadata": {},
   "source": [
    "1) Implement a Python class MaxHeap that supports the following operations: insert, delete, and get_max. Ensure the operations maintain the properties of a max-heap."
   ]
  },
  {
   "cell_type": "code",
   "execution_count": 22,
   "id": "15e0786f",
   "metadata": {},
   "outputs": [
    {
     "name": "stdout",
     "output_type": "stream",
     "text": [
      "20\n",
      "15\n"
     ]
    }
   ],
   "source": [
    "class MaxHeap:\n",
    "    def __init__(self):\n",
    "        self.heap = []\n",
    "\n",
    "    def insert(self, value):\n",
    "        self.heap.append(value)\n",
    "        self._heapify_up(len(self.heap) - 1)\n",
    "\n",
    "    def delete(self, value):\n",
    "        try:\n",
    "            index = self.heap.index(value)\n",
    "            self.heap[index] = self.heap[-1]\n",
    "            self.heap.pop()\n",
    "            if index < len(self.heap):\n",
    "                self._heapify_down(index)\n",
    "                self._heapify_up(index)\n",
    "        except ValueError:\n",
    "            print(\"Value not found in the heap\")\n",
    "\n",
    "    def get_max(self):\n",
    "        if self.heap:\n",
    "            return self.heap[0]\n",
    "        return None\n",
    "\n",
    "    def _heapify_up(self, index):\n",
    "        parent_index = (index - 1) // 2\n",
    "        if index > 0 and self.heap[index] > self.heap[parent_index]:\n",
    "            self.heap[index], self.heap[parent_index] = self.heap[parent_index], self.heap[index]\n",
    "            self._heapify_up(parent_index)\n",
    "\n",
    "    def _heapify_down(self, index):\n",
    "        largest = index\n",
    "        left_child = 2 * index + 1\n",
    "        right_child = 2 * index + 2\n",
    "\n",
    "        if left_child < len(self.heap) and self.heap[left_child] > self.heap[largest]:\n",
    "            largest = left_child\n",
    "\n",
    "        if right_child < len(self.heap) and self.heap[right_child] > self.heap[largest]:\n",
    "            largest = right_child\n",
    "\n",
    "        if largest != index:\n",
    "            self.heap[index], self.heap[largest] = self.heap[largest], self.heap[index]\n",
    "            self._heapify_down(largest)\n",
    "\n",
    "# Example usage:\n",
    "heap = MaxHeap()\n",
    "heap.insert(10)\n",
    "heap.insert(20)\n",
    "heap.insert(15)\n",
    "print(heap.get_max())  # Output: 20\n",
    "heap.delete(20)\n",
    "print(heap.get_max())  # Output: 15\n"
   ]
  },
  {
   "cell_type": "markdown",
   "id": "a47cfa3a",
   "metadata": {},
   "source": [
    "2) Write a Python function that takes a list of URLs, attempts to download their content, and retries up to 3 times if an error occurs. Use appropriate error handling to manage different types of exceptions."
   ]
  },
  {
   "cell_type": "code",
   "execution_count": 23,
   "id": "5ada7b7e",
   "metadata": {},
   "outputs": [
    {
     "name": "stdout",
     "output_type": "stream",
     "text": [
      "Content from https://www.javatpoint.com/python-tutorial:\n",
      " <!DOCTYPE html><html lang=\"en\"><head>\n",
      "\n",
      "<script async src=\"https://www.googletagmanager.com/gtag/js?...\n",
      "\n",
      "Content from https://www.javatpoint.com/java-tutorial:\n",
      " <!DOCTYPE html><html lang=\"en\"><head>\n",
      "\n",
      "<script async src=\"https://www.googletagmanager.com/gtag/js?...\n",
      "\n"
     ]
    }
   ],
   "source": [
    "import requests\n",
    "from time import sleep\n",
    "\n",
    "def download_content(urls):\n",
    "    results = {}\n",
    "    \n",
    "    for url in urls:\n",
    "        attempts = 0\n",
    "        success = False\n",
    "        while attempts < 3 and not success:\n",
    "            try:\n",
    "                response = requests.get(url, timeout=10)\n",
    "                response.raise_for_status()  # Raise an HTTPError for bad responses\n",
    "                results[url] = response.text\n",
    "                success = True\n",
    "            except requests.exceptions.Timeout:\n",
    "                print(f\"Timeout error occurred for URL: {url}. Retrying...\")\n",
    "            except requests.exceptions.RequestException as e:\n",
    "                print(f\"Error occurred for URL: {url}. Error: {e}. Retrying...\")\n",
    "            attempts += 1\n",
    "            if not success:\n",
    "                sleep(2)  # Wait for 2 seconds before retrying\n",
    "\n",
    "        if not success:\n",
    "            results[url] = None\n",
    "            print(f\"Failed to download content from URL: {url} after 3 attempts.\")\n",
    "    \n",
    "    return results\n",
    "\n",
    "# Example usage:\n",
    "urls = [\n",
    "    'https://www.javatpoint.com/python-tutorial',\n",
    "    'https://www.javatpoint.com/java-tutorial',\n",
    "#     'https://httpstat.us/503'  # Simulates a server error\n",
    "]\n",
    "\n",
    "content = download_content(urls)\n",
    "for url, data in content.items():\n",
    "    if data is not None:\n",
    "        print(f\"Content from {url}:\\n{data[:100]}...\\n\")\n",
    "    else:\n",
    "        print(f\"Failed to retrieve content from {url}.\")\n"
   ]
  },
  {
   "cell_type": "markdown",
   "id": "fcf97642",
   "metadata": {},
   "source": [
    "3) Write a Python script that trains a simple linear regression model using scikit-learn. Use a dataset of your choice, split it into training and testing sets, and evaluate the model's performance."
   ]
  },
  {
   "cell_type": "code",
   "execution_count": 24,
   "id": "06eece53",
   "metadata": {},
   "outputs": [
    {
     "name": "stdout",
     "output_type": "stream",
     "text": [
      "   total_bill   tip     sex smoker  day    time  size\n",
      "0       16.99  1.01  Female     No  Sun  Dinner     2\n",
      "1       10.34  1.66    Male     No  Sun  Dinner     3\n",
      "2       21.01  3.50    Male     No  Sun  Dinner     3\n",
      "3       23.68  3.31    Male     No  Sun  Dinner     2\n",
      "4       24.59  3.61  Female     No  Sun  Dinner     4\n",
      "Mean Squared Error: 0.6485996190543518\n",
      "R-squared: 0.481108409798949\n"
     ]
    },
    {
     "data": {
      "image/png": "[encoded data removed]",
      "text/plain": [
       "<Figure size 640x480 with 1 Axes>"
      ]
     },
     "metadata": {},
     "output_type": "display_data"
    },
    {
     "data": {
      "text/plain": [
       "<AxesSubplot: xlabel='total_bill', ylabel='tip'>"
      ]
     },
     "execution_count": 24,
     "metadata": {},
     "output_type": "execute_result"
    },
    {
     "data": {
      "image/png": "[encoded data removed]",
      "text/plain": [
       "<Figure size 640x480 with 1 Axes>"
      ]
     },
     "metadata": {},
     "output_type": "display_data"
    }
   ],
   "source": [
    "import seaborn as sns\n",
    "import pandas as pd\n",
    "import numpy as np\n",
    "from sklearn.model_selection import train_test_split\n",
    "from sklearn.linear_model import LinearRegression\n",
    "from sklearn.metrics import mean_squared_error, r2_score\n",
    "import matplotlib.pyplot as plt\n",
    "\n",
    "# Load the tips dataset from seaborn\n",
    "tips = sns.load_dataset(\"tips\")\n",
    "print(tips.head())\n",
    "# Select features and target variable\n",
    "X = tips[['total_bill', 'size']]\n",
    "y = tips['tip']\n",
    "\n",
    "# Split the data into training and testing sets\n",
    "X_train, X_test, y_train, y_test = train_test_split(X, y, test_size=0.2, random_state=42)\n",
    "\n",
    "# Create a linear regression model\n",
    "model = LinearRegression()\n",
    "\n",
    "# Train the model\n",
    "model.fit(X_train, y_train)\n",
    "\n",
    "# Make predictions on the test set\n",
    "y_pred = model.predict(X_test)\n",
    "\n",
    "# Evaluate the model's performance\n",
    "mse = mean_squared_error(y_test, y_pred)\n",
    "r2 = r2_score(y_test, y_pred)\n",
    "\n",
    "print(f\"Mean Squared Error: {mse}\")\n",
    "print(f\"R-squared: {r2}\")\n",
    "\n",
    "# Plot the results\n",
    "plt.scatter(y_test, y_pred)\n",
    "plt.xlabel(\"Actual Tips\")\n",
    "plt.ylabel(\"Predicted Tips\")\n",
    "plt.title(\"Actual vs Predicted Tips\")\n",
    "plt.show()\n",
    "\n",
    "sns.scatterplot(x=tips['total_bill'],y=tips['tip'],hue=tips['sex'],style=tips['smoker'])"
   ]
  },
  {
   "cell_type": "code",
   "execution_count": null,
   "id": "789d858c",
   "metadata": {},
   "outputs": [],
   "source": []
  },
  {
   "cell_type": "code",
   "execution_count": null,
   "id": "4aa37d52",
   "metadata": {},
   "outputs": [],
   "source": []
  },
  {
   "cell_type": "markdown",
   "id": "77e1ca65",
   "metadata": {},
   "source": [
    "4) Using pandas, write a Python function to clean and preprocess a given DataFrame, which involves handling missing values, normalizing numerical columns, and encoding categorical columns."
   ]
  },
  {
   "cell_type": "code",
   "execution_count": 25,
   "id": "5a4774ec",
   "metadata": {},
   "outputs": [
    {
     "name": "stderr",
     "output_type": "stream",
     "text": [
      "C:\\Users\\Dell\\AppData\\Local\\Programs\\Python\\Python310\\lib\\site-packages\\sklearn\\preprocessing\\_encoders.py:808: FutureWarning: `sparse` was renamed to `sparse_output` in version 1.2 and will be removed in 1.4. `sparse_output` is ignored unless you leave `sparse` to its default value.\n",
      "  warnings.warn(\n"
     ]
    },
    {
     "data": {
      "text/html": [
       "<div>\n",
       "<style scoped>\n",
       "    .dataframe tbody tr th:only-of-type {\n",
       "        vertical-align: middle;\n",
       "    }\n",
       "\n",
       "    .dataframe tbody tr th {\n",
       "        vertical-align: top;\n",
       "    }\n",
       "\n",
       "    .dataframe thead th {\n",
       "        text-align: right;\n",
       "    }\n",
       "</style>\n",
       "<table border=\"1\" class=\"dataframe\">\n",
       "  <thead>\n",
       "    <tr style=\"text-align: right;\">\n",
       "      <th></th>\n",
       "      <th>PassengerId</th>\n",
       "      <th>Survived</th>\n",
       "      <th>Pclass</th>\n",
       "      <th>Name</th>\n",
       "      <th>Sex</th>\n",
       "      <th>Age</th>\n",
       "      <th>SibSp</th>\n",
       "      <th>Parch</th>\n",
       "      <th>Ticket</th>\n",
       "      <th>Fare</th>\n",
       "      <th>Cabin</th>\n",
       "      <th>Embarked_Q</th>\n",
       "      <th>Embarked_S</th>\n",
       "    </tr>\n",
       "  </thead>\n",
       "  <tbody>\n",
       "    <tr>\n",
       "      <th>0</th>\n",
       "      <td>1</td>\n",
       "      <td>0</td>\n",
       "      <td>3</td>\n",
       "      <td>Braund, Mr. Owen Harris</td>\n",
       "      <td>male</td>\n",
       "      <td>-0.592481</td>\n",
       "      <td>1</td>\n",
       "      <td>0</td>\n",
       "      <td>A/5 21171</td>\n",
       "      <td>-0.502445</td>\n",
       "      <td>NaN</td>\n",
       "      <td>0.0</td>\n",
       "      <td>1.0</td>\n",
       "    </tr>\n",
       "    <tr>\n",
       "      <th>1</th>\n",
       "      <td>2</td>\n",
       "      <td>1</td>\n",
       "      <td>1</td>\n",
       "      <td>Cumings, Mrs. John Bradley (Florence Briggs Th...</td>\n",
       "      <td>female</td>\n",
       "      <td>0.638789</td>\n",
       "      <td>1</td>\n",
       "      <td>0</td>\n",
       "      <td>PC 17599</td>\n",
       "      <td>0.786845</td>\n",
       "      <td>C85</td>\n",
       "      <td>0.0</td>\n",
       "      <td>0.0</td>\n",
       "    </tr>\n",
       "    <tr>\n",
       "      <th>2</th>\n",
       "      <td>3</td>\n",
       "      <td>1</td>\n",
       "      <td>3</td>\n",
       "      <td>Heikkinen, Miss. Laina</td>\n",
       "      <td>female</td>\n",
       "      <td>-0.284663</td>\n",
       "      <td>0</td>\n",
       "      <td>0</td>\n",
       "      <td>STON/O2. 3101282</td>\n",
       "      <td>-0.488854</td>\n",
       "      <td>NaN</td>\n",
       "      <td>0.0</td>\n",
       "      <td>1.0</td>\n",
       "    </tr>\n",
       "    <tr>\n",
       "      <th>3</th>\n",
       "      <td>4</td>\n",
       "      <td>1</td>\n",
       "      <td>1</td>\n",
       "      <td>Futrelle, Mrs. Jacques Heath (Lily May Peel)</td>\n",
       "      <td>female</td>\n",
       "      <td>0.407926</td>\n",
       "      <td>1</td>\n",
       "      <td>0</td>\n",
       "      <td>113803</td>\n",
       "      <td>0.420730</td>\n",
       "      <td>C123</td>\n",
       "      <td>0.0</td>\n",
       "      <td>1.0</td>\n",
       "    </tr>\n",
       "    <tr>\n",
       "      <th>4</th>\n",
       "      <td>5</td>\n",
       "      <td>0</td>\n",
       "      <td>3</td>\n",
       "      <td>Allen, Mr. William Henry</td>\n",
       "      <td>male</td>\n",
       "      <td>0.407926</td>\n",
       "      <td>0</td>\n",
       "      <td>0</td>\n",
       "      <td>373450</td>\n",
       "      <td>-0.486337</td>\n",
       "      <td>NaN</td>\n",
       "      <td>0.0</td>\n",
       "      <td>1.0</td>\n",
       "    </tr>\n",
       "    <tr>\n",
       "      <th>...</th>\n",
       "      <td>...</td>\n",
       "      <td>...</td>\n",
       "      <td>...</td>\n",
       "      <td>...</td>\n",
       "      <td>...</td>\n",
       "      <td>...</td>\n",
       "      <td>...</td>\n",
       "      <td>...</td>\n",
       "      <td>...</td>\n",
       "      <td>...</td>\n",
       "      <td>...</td>\n",
       "      <td>...</td>\n",
       "      <td>...</td>\n",
       "    </tr>\n",
       "    <tr>\n",
       "      <th>886</th>\n",
       "      <td>887</td>\n",
       "      <td>0</td>\n",
       "      <td>2</td>\n",
       "      <td>Montvila, Rev. Juozas</td>\n",
       "      <td>male</td>\n",
       "      <td>-0.207709</td>\n",
       "      <td>0</td>\n",
       "      <td>0</td>\n",
       "      <td>211536</td>\n",
       "      <td>-0.386671</td>\n",
       "      <td>NaN</td>\n",
       "      <td>0.0</td>\n",
       "      <td>1.0</td>\n",
       "    </tr>\n",
       "    <tr>\n",
       "      <th>887</th>\n",
       "      <td>888</td>\n",
       "      <td>1</td>\n",
       "      <td>1</td>\n",
       "      <td>Graham, Miss. Margaret Edith</td>\n",
       "      <td>female</td>\n",
       "      <td>-0.823344</td>\n",
       "      <td>0</td>\n",
       "      <td>0</td>\n",
       "      <td>112053</td>\n",
       "      <td>-0.044381</td>\n",
       "      <td>B42</td>\n",
       "      <td>0.0</td>\n",
       "      <td>1.0</td>\n",
       "    </tr>\n",
       "    <tr>\n",
       "      <th>888</th>\n",
       "      <td>889</td>\n",
       "      <td>0</td>\n",
       "      <td>3</td>\n",
       "      <td>Johnston, Miss. Catherine Helen \"Carrie\"</td>\n",
       "      <td>female</td>\n",
       "      <td>0.000000</td>\n",
       "      <td>1</td>\n",
       "      <td>2</td>\n",
       "      <td>W./C. 6607</td>\n",
       "      <td>-0.176263</td>\n",
       "      <td>NaN</td>\n",
       "      <td>0.0</td>\n",
       "      <td>1.0</td>\n",
       "    </tr>\n",
       "    <tr>\n",
       "      <th>889</th>\n",
       "      <td>890</td>\n",
       "      <td>1</td>\n",
       "      <td>1</td>\n",
       "      <td>Behr, Mr. Karl Howell</td>\n",
       "      <td>male</td>\n",
       "      <td>-0.284663</td>\n",
       "      <td>0</td>\n",
       "      <td>0</td>\n",
       "      <td>111369</td>\n",
       "      <td>-0.044381</td>\n",
       "      <td>C148</td>\n",
       "      <td>0.0</td>\n",
       "      <td>0.0</td>\n",
       "    </tr>\n",
       "    <tr>\n",
       "      <th>890</th>\n",
       "      <td>891</td>\n",
       "      <td>0</td>\n",
       "      <td>3</td>\n",
       "      <td>Dooley, Mr. Patrick</td>\n",
       "      <td>male</td>\n",
       "      <td>0.177063</td>\n",
       "      <td>0</td>\n",
       "      <td>0</td>\n",
       "      <td>370376</td>\n",
       "      <td>-0.492378</td>\n",
       "      <td>NaN</td>\n",
       "      <td>1.0</td>\n",
       "      <td>0.0</td>\n",
       "    </tr>\n",
       "  </tbody>\n",
       "</table>\n",
       "<p>891 rows × 13 columns</p>\n",
       "</div>"
      ],
      "text/plain": [
       "     PassengerId  Survived  Pclass  \\\n",
       "0              1         0       3   \n",
       "1              2         1       1   \n",
       "2              3         1       3   \n",
       "3              4         1       1   \n",
       "4              5         0       3   \n",
       "..           ...       ...     ...   \n",
       "886          887         0       2   \n",
       "887          888         1       1   \n",
       "888          889         0       3   \n",
       "889          890         1       1   \n",
       "890          891         0       3   \n",
       "\n",
       "                                                  Name     Sex       Age  \\\n",
       "0                              Braund, Mr. Owen Harris    male -0.592481   \n",
       "1    Cumings, Mrs. John Bradley (Florence Briggs Th...  female  0.638789   \n",
       "2                               Heikkinen, Miss. Laina  female -0.284663   \n",
       "3         Futrelle, Mrs. Jacques Heath (Lily May Peel)  female  0.407926   \n",
       "4                             Allen, Mr. William Henry    male  0.407926   \n",
       "..                                                 ...     ...       ...   \n",
       "886                              Montvila, Rev. Juozas    male -0.207709   \n",
       "887                       Graham, Miss. Margaret Edith  female -0.823344   \n",
       "888           Johnston, Miss. Catherine Helen \"Carrie\"  female  0.000000   \n",
       "889                              Behr, Mr. Karl Howell    male -0.284663   \n",
       "890                                Dooley, Mr. Patrick    male  0.177063   \n",
       "\n",
       "     SibSp  Parch            Ticket      Fare Cabin  Embarked_Q  Embarked_S  \n",
       "0        1      0         A/5 21171 -0.502445   NaN         0.0         1.0  \n",
       "1        1      0          PC 17599  0.786845   C85         0.0         0.0  \n",
       "2        0      0  STON/O2. 3101282 -0.488854   NaN         0.0         1.0  \n",
       "3        1      0            113803  0.420730  C123         0.0         1.0  \n",
       "4        0      0            373450 -0.486337   NaN         0.0         1.0  \n",
       "..     ...    ...               ...       ...   ...         ...         ...  \n",
       "886      0      0            211536 -0.386671   NaN         0.0         1.0  \n",
       "887      0      0            112053 -0.044381   B42         0.0         1.0  \n",
       "888      1      2        W./C. 6607 -0.176263   NaN         0.0         1.0  \n",
       "889      0      0            111369 -0.044381  C148         0.0         0.0  \n",
       "890      0      0            370376 -0.492378   NaN         1.0         0.0  \n",
       "\n",
       "[891 rows x 13 columns]"
      ]
     },
     "execution_count": 25,
     "metadata": {},
     "output_type": "execute_result"
    }
   ],
   "source": [
    "import pandas as pd\n",
    "from sklearn.preprocessing import StandardScaler, OneHotEncoder\n",
    "from sklearn.impute import SimpleImputer\n",
    "\n",
    "def preprocess_titanic_data(url):\n",
    "    # Load the dataset\n",
    "    df = pd.read_csv(url)\n",
    "    df.head()\n",
    "    # Handle missing values\n",
    "    # Assuming 'Age' and 'Fare' are numerical columns and 'Embarked' is categorical\n",
    "    numerical_cols = ['Age', 'Fare']\n",
    "    categorical_cols = ['Embarked']\n",
    "\n",
    "    # Impute missing numerical values with mean\n",
    "    imputer = SimpleImputer(strategy='mean')\n",
    "    df[numerical_cols] = imputer.fit_transform(df[numerical_cols])\n",
    "\n",
    "    # Impute missing categorical values with mode (most frequent value)\n",
    "    imputer = SimpleImputer(strategy='most_frequent')\n",
    "    df[categorical_cols] = imputer.fit_transform(df[categorical_cols])\n",
    "\n",
    "    # Normalize numerical columns (StandardScaler)\n",
    "    scaler = StandardScaler()\n",
    "    df[numerical_cols] = scaler.fit_transform(df[numerical_cols])\n",
    "\n",
    "    # Encode categorical columns (OneHotEncoder)\n",
    "    encoder = OneHotEncoder(sparse=False, drop='first')\n",
    "    encoded_cols = pd.DataFrame(encoder.fit_transform(df[categorical_cols]))\n",
    "    encoded_cols.columns = encoder.get_feature_names_out(categorical_cols)\n",
    "\n",
    "    # Replace categorical columns with encoded columns\n",
    "    df.drop(categorical_cols, axis=1, inplace=True)\n",
    "    df = pd.concat([df, encoded_cols], axis=1)\n",
    "\n",
    "    return df\n",
    "url='https://raw.githubusercontent.com/datasciencedojo/datasets/master/titanic.csv'\n",
    "preprocess_titanic_data(url)"
   ]
  },
  {
   "cell_type": "markdown",
   "id": "651543cb",
   "metadata": {},
   "source": [
    "5)Write a Python function to compute the nth Fibonacci number using recursion."
   ]
  },
  {
   "cell_type": "code",
   "execution_count": 26,
   "id": "21d93fb9",
   "metadata": {},
   "outputs": [
    {
     "name": "stdout",
     "output_type": "stream",
     "text": [
      "The 8th Fibonacci number is: 13\n"
     ]
    }
   ],
   "source": [
    "def fibonacci(n):\n",
    "    if n <= 0:\n",
    "        return \"Input should be a positive integer.\"\n",
    "    elif n == 1:\n",
    "        return 0\n",
    "    elif n == 2:\n",
    "        return 1\n",
    "    else:\n",
    "        return fibonacci(n - 1) + fibonacci(n - 2)\n",
    "\n",
    "# Example usage:\n",
    "n = 8\n",
    "print(f\"The {n}th Fibonacci number is: {fibonacci(n)}\")\n"
   ]
  },
  {
   "cell_type": "markdown",
   "id": "21c50af6",
   "metadata": {},
   "source": [
    "6) Write a Python function that divides two numbers and handles the case where the divisor is zero by returning a custom error message"
   ]
  },
  {
   "cell_type": "code",
   "execution_count": 27,
   "id": "28ac5cd2",
   "metadata": {},
   "outputs": [
    {
     "name": "stdout",
     "output_type": "stream",
     "text": [
      "Error: Division by zero is not allowed.\n",
      "5.0\n"
     ]
    }
   ],
   "source": [
    "def divide_numbers(numerator, divisor):\n",
    "    try:\n",
    "        result = numerator / divisor\n",
    "        return result\n",
    "    except ZeroDivisionError:\n",
    "        return \"Error: Division by zero is not allowed.\"\n",
    "\n",
    "# Example usage:\n",
    "numerator = 10\n",
    "divisor = 0\n",
    "print(divide_numbers(numerator, divisor))  \n",
    "\n",
    "divisor = 2\n",
    "print(divide_numbers(numerator, divisor))  \n"
   ]
  },
  {
   "cell_type": "markdown",
   "id": "c8c50f9c",
   "metadata": {},
   "source": [
    "7) Write a Python decorator that measures the execution time of a function and logs it. Apply this decorator to a function that performs a computationally expensive task. "
   ]
  },
  {
   "cell_type": "code",
   "execution_count": 28,
   "id": "651c6500",
   "metadata": {},
   "outputs": [
    {
     "name": "stderr",
     "output_type": "stream",
     "text": [
      "INFO:root:Function 'fibonacci' executed in 0.0000 seconds\n",
      "INFO:root:Function 'fibonacci' executed in 0.0000 seconds\n",
      "INFO:root:Function 'fibonacci' executed in 0.0000 seconds\n",
      "INFO:root:Function 'fibonacci' executed in 0.0000 seconds\n",
      "INFO:root:Function 'fibonacci' executed in 0.0000 seconds\n",
      "INFO:root:Function 'fibonacci' executed in 0.0000 seconds\n",
      "INFO:root:Function 'fibonacci' executed in 0.0000 seconds\n",
      "INFO:root:Function 'fibonacci' executed in 0.0000 seconds\n",
      "INFO:root:Function 'fibonacci' executed in 0.0129 seconds\n"
     ]
    },
    {
     "data": {
      "text/plain": [
       "3"
      ]
     },
     "execution_count": 28,
     "metadata": {},
     "output_type": "execute_result"
    }
   ],
   "source": [
    "import time\n",
    "import logging\n",
    "\n",
    "# Configure logging\n",
    "logging.basicConfig(level=logging.INFO)\n",
    "\n",
    "# Decorator function to measure execution time and log it\n",
    "def measure_execution_time(func):\n",
    "    def wrapper(*args, **kwargs):\n",
    "        start_time = time.time()\n",
    "        result = func(*args, **kwargs)\n",
    "        end_time = time.time()\n",
    "        execution_time = end_time - start_time\n",
    "        logging.info(f\"Function '{func.__name__}' executed in {execution_time:.4f} seconds\")\n",
    "        return result\n",
    "    return wrapper\n",
    "\n",
    "# Example of a function that performs a computationally expensive task\n",
    "@measure_execution_time\n",
    "def fibonacci(n):\n",
    "    if n <= 1:\n",
    "        return n\n",
    "    else:\n",
    "        return fibonacci(n-1) + fibonacci(n-2)\n",
    "\n",
    "# Example usage\n",
    "fibonacci(4)\n"
   ]
  },
  {
   "cell_type": "markdown",
   "id": "2e48fc92",
   "metadata": {},
   "source": [
    "8) Write a Python function that takes two numbers and an operator (as a string) and performs the corresponding arithmetic operation (addition, subtraction, multiplication, or division)."
   ]
  },
  {
   "cell_type": "code",
   "execution_count": 29,
   "id": "ec41da35",
   "metadata": {},
   "outputs": [
    {
     "name": "stdout",
     "output_type": "stream",
     "text": [
      "15\n",
      "5\n",
      "50\n",
      "2.0\n",
      "Error: Division by zero is not allowed.\n",
      "Error: Invalid operator. Please use '+', '-', '*', or '/'.\n"
     ]
    }
   ],
   "source": [
    "def arithmetic_operation(num1, num2, operator):\n",
    "    if operator == '+':\n",
    "        return num1 + num2\n",
    "    elif operator == '-':\n",
    "        return num1 - num2\n",
    "    elif operator == '*':\n",
    "        return num1 * num2\n",
    "    elif operator == '/':\n",
    "        try:\n",
    "            return num1 / num2\n",
    "        except ZeroDivisionError:\n",
    "            return \"Error: Division by zero is not allowed.\"\n",
    "    else:\n",
    "        return \"Error: Invalid operator. Please use '+', '-', '*', or '/'.\"\n",
    "\n",
    "# Example usage:\n",
    "num1 = 10\n",
    "num2 = 5\n",
    "\n",
    "print(arithmetic_operation(num1, num2, '+'))  # Output: 15\n",
    "print(arithmetic_operation(num1, num2, '-'))  # Output: 5\n",
    "print(arithmetic_operation(num1, num2, '*'))  # Output: 50\n",
    "print(arithmetic_operation(num1, num2, '/'))  # Output: 2.0\n",
    "print(arithmetic_operation(num1, 0, '/'))    # Output: Error: Division by zero is not allowed.\n",
    "print(arithmetic_operation(num1, num2, '%'))  # Output: Error: Invalid operator. Please use '+', '-', '*', or '/'.\n"
   ]
  },
  {
   "cell_type": "markdown",
   "id": "8e7db688",
   "metadata": {},
   "source": [
    "9) Write a Python function that generates a random password. The password should contain a mix of uppercase letters, lowercase letters, digits, and special characters."
   ]
  },
  {
   "cell_type": "code",
   "execution_count": 30,
   "id": "b9e1487a",
   "metadata": {},
   "outputs": [
    {
     "name": "stdout",
     "output_type": "stream",
     "text": [
      "S;\\iI~Xsm)7.\n",
      "7x4$D&Iye-!X^31L\n"
     ]
    }
   ],
   "source": [
    "import random\n",
    "import string\n",
    "\n",
    "def generate_random_password(length=12):\n",
    "    if length < 4:\n",
    "        return \"Password length should be at least 4 characters.\"\n",
    "\n",
    "    # Define character sets\n",
    "    uppercase_letters = string.ascii_uppercase\n",
    "    lowercase_letters = string.ascii_lowercase\n",
    "    digits = string.digits\n",
    "    special_characters = string.punctuation\n",
    "\n",
    "    # Ensure the password contains at least one character from each set\n",
    "    password = [\n",
    "        random.choice(uppercase_letters),\n",
    "        random.choice(lowercase_letters),\n",
    "        random.choice(digits),\n",
    "        random.choice(special_characters)\n",
    "    ]\n",
    "\n",
    "    # Fill the rest of the password length with a mix of all character sets\n",
    "    all_characters = uppercase_letters + lowercase_letters + digits + special_characters\n",
    "    password += random.choices(all_characters, k=length-4)\n",
    "\n",
    "    # Shuffle the password list to ensure random order\n",
    "    random.shuffle(password)\n",
    "\n",
    "    # Convert list to string\n",
    "    return ''.join(password)\n",
    "\n",
    "# Example usage:\n",
    "print(generate_random_password(12))\n",
    "print(generate_random_password(16))\n"
   ]
  },
  {
   "cell_type": "markdown",
   "id": "7765836f",
   "metadata": {},
   "source": [
    "10) Write a Python function that takes a 2D list (matrix) and returns its transpose"
   ]
  },
  {
   "cell_type": "code",
   "execution_count": 31,
   "id": "b6fbef68",
   "metadata": {},
   "outputs": [
    {
     "name": "stdout",
     "output_type": "stream",
     "text": [
      "[1, 4, 7]\n",
      "[2, 5, 8]\n",
      "[3, 6, 9]\n"
     ]
    }
   ],
   "source": [
    "def transpose_matrix(matrix):\n",
    "    if not matrix or not matrix[0]:\n",
    "        return []\n",
    "\n",
    "    rows = len(matrix)\n",
    "    cols = len(matrix[0])\n",
    "\n",
    "    # Create an empty matrix for the transpose with switched dimensions\n",
    "    transpose = [[None] * rows for _ in range(cols)]\n",
    "\n",
    "    for i in range(rows):\n",
    "        for j in range(cols):\n",
    "            transpose[j][i] = matrix[i][j]\n",
    "\n",
    "    return transpose\n",
    "\n",
    "# Example usage:\n",
    "matrix = [\n",
    "    [1, 2, 3],\n",
    "    [4, 5, 6],\n",
    "    [7, 8, 9]\n",
    "]\n",
    "\n",
    "transposed_matrix = transpose_matrix(matrix)\n",
    "for row in transposed_matrix:\n",
    "    print(row)\n",
    "\n"
   ]
  },
  {
   "cell_type": "code",
   "execution_count": null,
   "id": "df656a9b",
   "metadata": {},
   "outputs": [],
   "source": []
  }
 ],
 "metadata": {
  "kernelspec": {
   "display_name": "Python 3 (ipykernel)",
   "language": "python",
   "name": "python3"
  },
  "language_info": {
   "codemirror_mode": {
    "name": "ipython",
    "version": 3
   },
   "file_extension": ".py",
   "mimetype": "text/x-python",
   "name": "python",
   "nbconvert_exporter": "python",
   "pygments_lexer": "ipython3",
   "version": "3.10.5"
  }
 },
 "nbformat": 4,
 "nbformat_minor": 5
}
